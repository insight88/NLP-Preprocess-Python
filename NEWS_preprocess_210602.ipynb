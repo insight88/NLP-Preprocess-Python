{
 "cells": [
  {
   "cell_type": "markdown",
   "id": "e89fb671",
   "metadata": {},
   "source": [
    "# NEWS_csv"
   ]
  },
  {
   "cell_type": "markdown",
   "id": "legal-breathing",
   "metadata": {},
   "source": [
    "## module load"
   ]
  },
  {
   "cell_type": "code",
   "execution_count": 1,
   "id": "nearby-protest",
   "metadata": {
    "ExecuteTime": {
     "end_time": "2021-06-02T09:04:01.669545Z",
     "start_time": "2021-06-02T09:04:01.405232Z"
    }
   },
   "outputs": [],
   "source": [
    "import re\n",
    "import os\n",
    "import kss\n",
    "import json\n",
    "import random\n",
    "import pandas as pd\n",
    "import numpy as np\n",
    "from tqdm.notebook import tqdm\n",
    "from konlpy.tag import Mecab\n",
    "m = Mecab()"
   ]
  },
  {
   "cell_type": "markdown",
   "id": "identical-skirt",
   "metadata": {},
   "source": [
    "## csv 파일 로드 & 나누기"
   ]
  },
  {
   "cell_type": "code",
   "execution_count": 2,
   "id": "hispanic-shirt",
   "metadata": {
    "ExecuteTime": {
     "end_time": "2021-06-02T09:04:03.474407Z",
     "start_time": "2021-06-02T09:04:03.463429Z"
    }
   },
   "outputs": [
    {
     "data": {
      "text/plain": [
       "['news_body_2018.csv',\n",
       " 'news_body_2019_1.csv',\n",
       " 'news_body_2019_2.csv',\n",
       " 'news_body_2019_3.csv',\n",
       " 'news_body_2019_4.csv',\n",
       " 'news_body_2020_1.csv',\n",
       " 'news_body_2020_2.csv',\n",
       " 'news_body_2020_3.csv',\n",
       " 'news_body_2020_4.csv',\n",
       " 'news_body_2021.csv']"
      ]
     },
     "execution_count": 2,
     "metadata": {},
     "output_type": "execute_result"
    }
   ],
   "source": [
    "path = \"./NEWS_csv/\"\n",
    "files = os.listdir(path)\n",
    "files.sort()\n",
    "files = list(filter(lambda x: '.csv' in x, files))\n",
    "files"
   ]
  },
  {
   "cell_type": "markdown",
   "id": "ead3fde1",
   "metadata": {},
   "source": [
    "## 영어 기사 필터링 함수"
   ]
  },
  {
   "cell_type": "code",
   "execution_count": 3,
   "id": "5a5a9a34",
   "metadata": {
    "ExecuteTime": {
     "end_time": "2021-06-02T09:04:05.834909Z",
     "start_time": "2021-06-02T09:04:05.830686Z"
    }
   },
   "outputs": [],
   "source": [
    "def en_article_filter(df):\n",
    "    ko_articles = df[df['body'].str.count('[a-z|A-Z|\\s|\\d|\\,|\\.|\\'|\\(|\\)|+|-|\\/|=|-|\\[|\\]|\\:]{100,}') == 0]\n",
    "    return ko_articles"
   ]
  },
  {
   "cell_type": "markdown",
   "id": "0c2dc873",
   "metadata": {},
   "source": [
    "## 기사 내용 전처리 함수"
   ]
  },
  {
   "cell_type": "code",
   "execution_count": 4,
   "id": "fb3b31ac",
   "metadata": {
    "ExecuteTime": {
     "end_time": "2021-06-02T09:04:06.516464Z",
     "start_time": "2021-06-02T09:04:06.492566Z"
    }
   },
   "outputs": [],
   "source": [
    "def content_proc(text):\n",
    "    reporter_with_mail = '[가-힣]{2,4}(\\s?){1,2}(기자)?(\\s?){1,2}(\\(?)[a-zA-Z0-9-_.]*@[a-zA-Z0-9\\-_.]*(\\)?)'\n",
    "    hash_tags = '#[가-힣a-zA-Z]*'\n",
    "    reporter_pattern = '[가-힣\\s]{3,4}(인턴)?\\s?기자'\n",
    "    mudan_baepo = '무단(\\s?)전재.*재배포(\\s?)금지'\n",
    "    gisa_etc = '기사.{2,3}(및?\\s)보도자료|사진제공|기사\\s?제보\\s?및?|copyright|영상편집'\n",
    "    photo_info = '\\/?(\\s?){,3}사진(\\s?)='\n",
    "    date_pattern = '[\\d|\\.]{7,12}'\n",
    "    email_pattern = '[0-9a-zA-Z]([-_.]?[0-9a-zA-Z])*@[0-9a-zA-Z]([-_.]?[0-9a-zA-Z])*.[a-zA-Z]{2,3}'\n",
    "    phone_number = '[0-9]{2,3}-[0-9]{3,4}-[0-9]{4}'\n",
    "    site_addr = 'http(s?)://[a-zA-Z\\.\\/0-9^가-힣]*|www[a-zA-Z0-9.]*'\n",
    "    press_name1 = '스포츠(\\s?)한국|스포티비뉴스|뉴스1|bnt뉴스|공감언론|뉴시스|시사기획(\\s?)창|TV조선|한국경제|데일리안'\n",
    "    press_name2 = '연합뉴스TV|뉴스엔|마이데일리|동아닷컴|게티이미지코리아'\n",
    "    bracket_pattern = '\\[([^\\]]+)\\]|\\(([^\\)]+)\\)|\\【([^\\】]+)\\】|<[^>]+>'\n",
    "    special_char = '[·☞→\\*=<>《》\\[\\]ⓒ©◇◆□■△▲▶▷◀◁/~#&\\+á?\\xc3\\xa1\\-\\|\\:\\;\\!\\-\\,\\_\\~\\$\\'\\\"‘’“”\\'\\\"]'\n",
    "    multi_space = '\\s{2,}'\n",
    "    \n",
    "    refined = re.sub(reporter_with_mail, '', text)\n",
    "    refined = re.sub(hash_tags, '', refined)\n",
    "    refined = re.sub(reporter_pattern, '', refined)\n",
    "    refined = re.sub(mudan_baepo, '', refined)\n",
    "    refined = re.sub(gisa_etc, '', refined)\n",
    "    refined = re.sub(photo_info, '', refined)\n",
    "    refined = re.sub(date_pattern, '', refined)\n",
    "    refined = re.sub(email_pattern, '', refined)\n",
    "    refined = re.sub(phone_number, '', refined)\n",
    "    refined = re.sub(site_addr, '', refined)\n",
    "    refined = re.sub(press_name1, '', refined)\n",
    "    refined = re.sub(press_name2, '', refined)\n",
    "    refined = re.sub(bracket_pattern, '', refined)\n",
    "    refined = re.sub(special_char, '', refined)\n",
    "    refined = re.sub(multi_space, ' ', refined)\n",
    "    \n",
    "    return refined"
   ]
  },
  {
   "cell_type": "markdown",
   "id": "662e2be9",
   "metadata": {},
   "source": [
    "# 전체 기사별 전처리 함수"
   ]
  },
  {
   "cell_type": "code",
   "execution_count": 5,
   "id": "141ac73f",
   "metadata": {
    "ExecuteTime": {
     "end_time": "2021-06-02T09:04:07.375497Z",
     "start_time": "2021-06-02T09:04:07.372958Z"
    }
   },
   "outputs": [],
   "source": [
    "def en_article_filter(df):\n",
    "    ko_articles = df[df['body'].str.count('[a-z|A-Z|\\s|\\d|\\,|\\.|\\'|\\(|\\)|+|-|\\/|=|-|\\[|\\]|\\:]{100,}') == 0]\n",
    "    return ko_articles"
   ]
  },
  {
   "cell_type": "code",
   "execution_count": 6,
   "id": "8e59ecef",
   "metadata": {
    "ExecuteTime": {
     "end_time": "2021-06-02T09:04:07.885441Z",
     "start_time": "2021-06-02T09:04:07.858966Z"
    }
   },
   "outputs": [],
   "source": [
    "def content_proc(text):\n",
    "    reporter_with_mail = '[가-힣]{2,4}(\\s?){1,2}(기자)?(\\s?){1,2}(\\(?)[a-zA-Z0-9-_.]*@[a-zA-Z0-9\\-_.]*(\\)?)'\n",
    "    hash_tags = '#[가-힣a-zA-Z]*'\n",
    "    reporter_pattern = '[가-힣\\s]{3,4}(인턴)?\\s?기자'\n",
    "    mudan_baepo = '무단(\\s?)전재.*재배포(\\s?)금지'\n",
    "    gisa_etc = '기사.{2,3}(및?\\s)보도자료|사진제공|기사\\s?제보\\s?및?|copyright|영상편집'\n",
    "    photo_info = '\\/?(\\s?){,3}사진(\\s?)='\n",
    "    date_pattern = '[\\d|\\.]{7,12}'\n",
    "    email_pattern = '[0-9a-zA-Z]([-_.]?[0-9a-zA-Z])*@[0-9a-zA-Z]([-_.]?[0-9a-zA-Z])*.[a-zA-Z]{2,3}'\n",
    "    phone_number = '[0-9]{2,3}-[0-9]{3,4}-[0-9]{4}'\n",
    "    site_addr = 'http(s?)://[a-zA-Z\\.\\/0-9^가-힣]*|www[a-zA-Z0-9.]*'\n",
    "    press_name1 = '스포츠(\\s?)한국|스포티비뉴스|뉴스1|bnt뉴스|공감언론|뉴시스|시사기획(\\s?)창|TV조선|한국경제|데일리안|연합뉴스|[nN]ews1'\n",
    "    press_name2 = '연합뉴스TV|뉴스엔|마이데일리|동아닷컴|게티이미지코리아|조선일보|통신사|노컷뉴스|SPOTV|NEWS|엑스포츠뉴스|코리아\\s?및\\s?전재\\s?-?'\n",
    "    press_name3 = '매경닷컴|MK스포츠|스타투데이|star.mk.co.kr|매일경제|mk.co.kr|디지털타임스|무단복제|Copyrights|YTN|저작권자'\n",
    "    press_name4 = '재배포\\s?금지|OSEN|서울신문사|MBC|한경닷컴|yright|리얼타임|머니투데이\\All\\sRights\\sReserved|CBS|경향신문|경향닷컴'\n",
    "    bracket_pattern = '\\[([^\\]]+)\\]|\\(([^\\)]+)\\)|\\【([^\\】]+)\\】|<[^>]+>'\n",
    "    special_char = '[·☞━→\\*=<>《》\\(\\)\\[\\]ⓒ©○●◇◆□■△▲▶▷◀◁/~#&\\+á?\\xc3\\xa1\\-\\|\\:\\;\\!\\-\\,\\_\\~\\$\\'\\\"‘’“”\\'\\\"]'\n",
    "    multi_space = '\\s{2,}'\n",
    "    \n",
    "    refined = re.sub(reporter_with_mail, '', text)\n",
    "    refined = re.sub(hash_tags, '', refined)\n",
    "    refined = re.sub(reporter_pattern, '', refined)\n",
    "    refined = re.sub(mudan_baepo, '', refined)\n",
    "    refined = re.sub(gisa_etc, '', refined)\n",
    "    refined = re.sub(photo_info, '', refined)\n",
    "    refined = re.sub(date_pattern, '', refined)\n",
    "    refined = re.sub(email_pattern, '', refined)\n",
    "    refined = re.sub(phone_number, '', refined)\n",
    "    refined = re.sub(site_addr, '', refined)\n",
    "    refined = re.sub(press_name1, '', refined)\n",
    "    refined = re.sub(press_name2, '', refined)\n",
    "    refined = re.sub(press_name3, '', refined)\n",
    "    refined = re.sub(press_name4, '', refined)\n",
    "    refined = re.sub(bracket_pattern, '', refined)\n",
    "    refined = re.sub(special_char, '', refined)\n",
    "    refined = re.sub(multi_space, ' ', refined)\n",
    "    \n",
    "    return refined"
   ]
  },
  {
   "cell_type": "code",
   "execution_count": 7,
   "id": "02f5e5b9",
   "metadata": {
    "ExecuteTime": {
     "end_time": "2021-06-02T09:04:08.437562Z",
     "start_time": "2021-06-02T09:04:08.432406Z"
    }
   },
   "outputs": [],
   "source": [
    "# def get_article(df):\n",
    "#     articles = []\n",
    "#     for i in tqdm(range(len(df))):\n",
    "#         try:\n",
    "#             original_text = df.loc[i].body\n",
    "#             procd_article = content_proc(original_text)\n",
    "#             sent_split = kss.split_sentences(procd_article)\n",
    "            \n",
    "#             sent_arr = []\n",
    "#             para = []\n",
    "#             paragraphs = []\n",
    "\n",
    "#             for s in split_t:\n",
    "#                 try:\n",
    "#                     sent_arr.append(' '.join(m.morphs(s)))\n",
    "#                 except:\n",
    "#                     pass\n",
    "\n",
    "#             # morph된 마지막 문장이 너무 짧을 때 삭제\n",
    "#             if len(sent_arr[-1]) < 5:    \n",
    "#                 del sent_arr[-1]\n",
    "\n",
    "#             for sent in sent_arr:\n",
    "#                 if len(para) < 4:\n",
    "#                     para.append(sent)\n",
    "#                 else:\n",
    "#                     para.append(sent)\n",
    "#                     para_concat = '\\n'.join(para)\n",
    "#                     paragraphs.append(para_concat + '\\n\\n')\n",
    "#                     para = []\n",
    "#                     if (len(sent_arr) - idx - 1) // 5 != 0:\n",
    "#                         para.append(sent)\n",
    "#                         if idx == len(sent_arr) - 1:\n",
    "#                             para_concat = '\\n'.join(para)\n",
    "#                             paragraphs.append(para_concat + '\\n\\n')\n",
    "#                             para = []\n",
    "                            \n",
    "#             article = ''.join(paragraphs)\n",
    "#             print(article)\n",
    "#         except:\n",
    "#             pass\n",
    "\n",
    "#     return articles"
   ]
  },
  {
   "cell_type": "code",
   "execution_count": 8,
   "id": "ed0fce82",
   "metadata": {
    "ExecuteTime": {
     "end_time": "2021-06-02T09:04:09.043492Z",
     "start_time": "2021-06-02T09:04:09.040063Z"
    }
   },
   "outputs": [],
   "source": [
    "def get_article(df):\n",
    "    articles = []\n",
    "    for i in tqdm(df.index):\n",
    "        original_text = df.loc[i].body\n",
    "        procd_article = content_proc(original_text)\n",
    "        sent_split = kss.split_sentences(procd_article)\n",
    "        if len(sent_split) > 4:\n",
    "            sent_join = '\\n'.join(sent_split[:-2])\n",
    "            sent_join = re.sub('\\s{2,}\\.', '', sent_join)\n",
    "            articles.append(sent_join)\n",
    "        elif len(sent_split) <= 4:\n",
    "            pass\n",
    "    return articles"
   ]
  },
  {
   "cell_type": "markdown",
   "id": "09e163dd",
   "metadata": {},
   "source": [
    "# 모든 csv 파일 전처리 후 저장"
   ]
  },
  {
   "cell_type": "code",
   "execution_count": 9,
   "id": "4680bf64",
   "metadata": {
    "ExecuteTime": {
     "end_time": "2021-06-02T09:04:10.235090Z",
     "start_time": "2021-06-02T09:04:10.227932Z"
    },
    "scrolled": true
   },
   "outputs": [
    {
     "name": "stdout",
     "output_type": "stream",
     "text": [
      "./NEWS_csv/\n"
     ]
    },
    {
     "data": {
      "text/plain": [
       "['news_body_2018.csv',\n",
       " 'news_body_2019_1.csv',\n",
       " 'news_body_2019_2.csv',\n",
       " 'news_body_2019_3.csv',\n",
       " 'news_body_2019_4.csv',\n",
       " 'news_body_2020_1.csv',\n",
       " 'news_body_2020_2.csv',\n",
       " 'news_body_2020_3.csv',\n",
       " 'news_body_2020_4.csv',\n",
       " 'news_body_2021.csv']"
      ]
     },
     "execution_count": 9,
     "metadata": {},
     "output_type": "execute_result"
    }
   ],
   "source": [
    "print(path)\n",
    "files"
   ]
  },
  {
   "cell_type": "code",
   "execution_count": null,
   "id": "72741a08",
   "metadata": {
    "ExecuteTime": {
     "end_time": "2021-06-01T07:27:06.242103Z",
     "start_time": "2021-06-01T07:25:41.784978Z"
    },
    "scrolled": true
   },
   "outputs": [],
   "source": [
    "for file in files:\n",
    "    df = pd.read_csv(path + file)\n",
    "    ko_articles = en_article_filter(df)\n",
    "    articles = get_article(ko_articles)\n",
    "    full_text = '\\n'.join(articles)\n",
    "    full_text_fix = re.sub('\\n{3,}', '\\n\\n\\n', full_text)\n",
    "    file_name = file.replace('.csv', '.txt')\n",
    "    with open(file_name, 'w', encoding='utf-8') as f:\n",
    "        f.write(full_text_fix)"
   ]
  },
  {
   "cell_type": "code",
   "execution_count": 10,
   "id": "c3478e37",
   "metadata": {
    "ExecuteTime": {
     "end_time": "2021-06-02T09:05:03.301911Z",
     "start_time": "2021-06-02T09:04:28.443607Z"
    }
   },
   "outputs": [],
   "source": [
    "df = pd.read_csv(path + files[-1])"
   ]
  },
  {
   "cell_type": "code",
   "execution_count": 11,
   "id": "13a05311",
   "metadata": {
    "ExecuteTime": {
     "end_time": "2021-06-02T09:05:09.468356Z",
     "start_time": "2021-06-02T09:05:09.458736Z"
    }
   },
   "outputs": [
    {
     "data": {
      "text/html": [
       "<div>\n",
       "<style scoped>\n",
       "    .dataframe tbody tr th:only-of-type {\n",
       "        vertical-align: middle;\n",
       "    }\n",
       "\n",
       "    .dataframe tbody tr th {\n",
       "        vertical-align: top;\n",
       "    }\n",
       "\n",
       "    .dataframe thead th {\n",
       "        text-align: right;\n",
       "    }\n",
       "</style>\n",
       "<table border=\"1\" class=\"dataframe\">\n",
       "  <thead>\n",
       "    <tr style=\"text-align: right;\">\n",
       "      <th></th>\n",
       "      <th>body</th>\n",
       "    </tr>\n",
       "  </thead>\n",
       "  <tbody>\n",
       "    <tr>\n",
       "      <th>0</th>\n",
       "      <td>epa09118476 Media members walk through the dig...</td>\n",
       "    </tr>\n",
       "    <tr>\n",
       "      <th>1</th>\n",
       "      <td>epa09118480 Media members look at the digital ...</td>\n",
       "    </tr>\n",
       "    <tr>\n",
       "      <th>2</th>\n",
       "      <td>epa09118479 Media members look at the digital ...</td>\n",
       "    </tr>\n",
       "    <tr>\n",
       "      <th>3</th>\n",
       "      <td>epa09118478 A media member looks at the digita...</td>\n",
       "    </tr>\n",
       "    <tr>\n",
       "      <th>4</th>\n",
       "      <td>[서울=뉴시스]정의용 외교부 장관과 왕이 중국 외교부장이 3일 중국 푸젠성 샤먼 하...</td>\n",
       "    </tr>\n",
       "    <tr>\n",
       "      <th>...</th>\n",
       "      <td>...</td>\n",
       "    </tr>\n",
       "    <tr>\n",
       "      <th>1395347</th>\n",
       "      <td>드림캐쳐 드림캐쳐의 새로운 세계가 눈을 뜬다. 드림캐쳐는 26일 오후 6시 여섯 번...</td>\n",
       "    </tr>\n",
       "    <tr>\n",
       "      <th>1395348</th>\n",
       "      <td>그룹 투모로우바이투게더가 오리콘 차트 정상을 지켰다. 빅히트엔터테인먼트 제공 그룹 ...</td>\n",
       "    </tr>\n",
       "    <tr>\n",
       "      <th>1395349</th>\n",
       "      <td>[스타뉴스 한해선 기자] /사진=MBC '열정 만수르' 동방신기 유노윤호가 '라디오...</td>\n",
       "    </tr>\n",
       "    <tr>\n",
       "      <th>1395350</th>\n",
       "      <td>[스타뉴스 김미화 기자] 배주현(아이린) / 사진='더블패티' 무대에서 독보적인 카...</td>\n",
       "    </tr>\n",
       "    <tr>\n",
       "      <th>1395351</th>\n",
       "      <td>[한국경제TV 디지털이슈팀 유병철 기자] ‘여신강림’ 속 문가영이 내면을 단단히 다...</td>\n",
       "    </tr>\n",
       "  </tbody>\n",
       "</table>\n",
       "<p>1395352 rows × 1 columns</p>\n",
       "</div>"
      ],
      "text/plain": [
       "                                                      body\n",
       "0        epa09118476 Media members walk through the dig...\n",
       "1        epa09118480 Media members look at the digital ...\n",
       "2        epa09118479 Media members look at the digital ...\n",
       "3        epa09118478 A media member looks at the digita...\n",
       "4        [서울=뉴시스]정의용 외교부 장관과 왕이 중국 외교부장이 3일 중국 푸젠성 샤먼 하...\n",
       "...                                                    ...\n",
       "1395347  드림캐쳐 드림캐쳐의 새로운 세계가 눈을 뜬다. 드림캐쳐는 26일 오후 6시 여섯 번...\n",
       "1395348  그룹 투모로우바이투게더가 오리콘 차트 정상을 지켰다. 빅히트엔터테인먼트 제공 그룹 ...\n",
       "1395349  [스타뉴스 한해선 기자] /사진=MBC '열정 만수르' 동방신기 유노윤호가 '라디오...\n",
       "1395350  [스타뉴스 김미화 기자] 배주현(아이린) / 사진='더블패티' 무대에서 독보적인 카...\n",
       "1395351  [한국경제TV 디지털이슈팀 유병철 기자] ‘여신강림’ 속 문가영이 내면을 단단히 다...\n",
       "\n",
       "[1395352 rows x 1 columns]"
      ]
     },
     "execution_count": 11,
     "metadata": {},
     "output_type": "execute_result"
    }
   ],
   "source": [
    "df"
   ]
  },
  {
   "cell_type": "code",
   "execution_count": 144,
   "id": "800997db",
   "metadata": {
    "ExecuteTime": {
     "end_time": "2021-06-01T08:27:41.212248Z",
     "start_time": "2021-06-01T08:27:41.206447Z"
    }
   },
   "outputs": [
    {
     "data": {
      "text/plain": [
       "1395352"
      ]
     },
     "execution_count": 144,
     "metadata": {},
     "output_type": "execute_result"
    }
   ],
   "source": [
    "len(df)"
   ]
  },
  {
   "cell_type": "code",
   "execution_count": 12,
   "id": "fa761fb0",
   "metadata": {
    "ExecuteTime": {
     "end_time": "2021-06-01T07:28:25.320433Z",
     "start_time": "2021-06-01T07:27:52.979275Z"
    }
   },
   "outputs": [],
   "source": [
    "ko_articles = en_article_filter(df)"
   ]
  },
  {
   "cell_type": "code",
   "execution_count": 13,
   "id": "b000ea8e",
   "metadata": {
    "ExecuteTime": {
     "end_time": "2021-06-01T07:28:38.337768Z",
     "start_time": "2021-06-01T07:28:38.332236Z"
    }
   },
   "outputs": [
    {
     "data": {
      "text/plain": [
       "1172695"
      ]
     },
     "execution_count": 13,
     "metadata": {},
     "output_type": "execute_result"
    }
   ],
   "source": [
    "len(ko_articles)"
   ]
  },
  {
   "cell_type": "code",
   "execution_count": 146,
   "id": "f7b85292",
   "metadata": {
    "ExecuteTime": {
     "end_time": "2021-06-01T08:29:05.267214Z",
     "start_time": "2021-06-01T08:29:05.263917Z"
    }
   },
   "outputs": [
    {
     "data": {
      "text/plain": [
       "308"
      ]
     },
     "execution_count": 146,
     "metadata": {},
     "output_type": "execute_result"
    }
   ],
   "source": [
    "len(articles)"
   ]
  },
  {
   "cell_type": "code",
   "execution_count": 153,
   "id": "a2b30b3b",
   "metadata": {
    "ExecuteTime": {
     "end_time": "2021-06-01T15:50:08.429623Z",
     "start_time": "2021-06-01T08:32:33.719971Z"
    }
   },
   "outputs": [
    {
     "data": {
      "application/vnd.jupyter.widget-view+json": {
       "model_id": "c772e57a48d64d6c8d46ce895c199dbb",
       "version_major": 2,
       "version_minor": 0
      },
      "text/plain": [
       "  0%|          | 0/1172695 [00:00<?, ?it/s]"
      ]
     },
     "metadata": {},
     "output_type": "display_data"
    }
   ],
   "source": [
    "articles = get_article(ko_articles)"
   ]
  },
  {
   "cell_type": "code",
   "execution_count": 155,
   "id": "9ed1cd82",
   "metadata": {
    "ExecuteTime": {
     "end_time": "2021-06-02T01:06:31.935627Z",
     "start_time": "2021-06-02T01:06:31.930611Z"
    }
   },
   "outputs": [
    {
     "data": {
      "text/plain": [
       "898325"
      ]
     },
     "execution_count": 155,
     "metadata": {},
     "output_type": "execute_result"
    }
   ],
   "source": [
    "len(articles)"
   ]
  },
  {
   "cell_type": "code",
   "execution_count": 160,
   "id": "511370bc",
   "metadata": {
    "ExecuteTime": {
     "end_time": "2021-06-02T01:09:15.082361Z",
     "start_time": "2021-06-02T01:09:10.130603Z"
    }
   },
   "outputs": [],
   "source": [
    "full_text = '\\n\\n\\n'.join(articles[600001:])\n",
    "full_text_fix = re.sub('\\n{4,}', '\\n\\n\\n', full_text)\n",
    "file_name = file.replace('.csv', '_03.txt')\n",
    "with open(file_name, 'w', encoding='utf-8') as f:\n",
    "    f.write(full_text_fix)"
   ]
  },
  {
   "cell_type": "markdown",
   "id": "79b87829",
   "metadata": {},
   "source": [
    "# 파일 용량 맞춰 나누기"
   ]
  },
  {
   "cell_type": "code",
   "execution_count": 3,
   "id": "d1180f59",
   "metadata": {
    "ExecuteTime": {
     "end_time": "2021-04-14T01:53:37.753206Z",
     "start_time": "2021-04-14T01:53:37.744637Z"
    }
   },
   "outputs": [],
   "source": [
    "path = \"./NEWS_txt/\"\n",
    "files = os.listdir(path)\n",
    "files.sort()"
   ]
  },
  {
   "cell_type": "code",
   "execution_count": 4,
   "id": "335642b6",
   "metadata": {
    "ExecuteTime": {
     "end_time": "2021-04-14T01:53:39.422578Z",
     "start_time": "2021-04-14T01:53:39.415028Z"
    }
   },
   "outputs": [
    {
     "data": {
      "text/plain": [
       "['news_body_2018.txt',\n",
       " 'news_body_2019_1.txt',\n",
       " 'news_body_2019_2.txt',\n",
       " 'news_body_2019_3.txt',\n",
       " 'news_body_2019_4.txt',\n",
       " 'news_body_2020_1.txt',\n",
       " 'news_body_2020_2.txt',\n",
       " 'news_body_2020_3.txt',\n",
       " 'news_body_2020_4.txt',\n",
       " 'news_body_2021.txt']"
      ]
     },
     "execution_count": 4,
     "metadata": {},
     "output_type": "execute_result"
    }
   ],
   "source": [
    "files"
   ]
  },
  {
   "cell_type": "code",
   "execution_count": 5,
   "id": "f19bbd08",
   "metadata": {
    "ExecuteTime": {
     "end_time": "2021-04-14T01:53:54.982160Z",
     "start_time": "2021-04-14T01:53:45.873444Z"
    }
   },
   "outputs": [
    {
     "name": "stdout",
     "output_type": "stream",
     "text": [
      "558795\n"
     ]
    }
   ],
   "source": [
    "with open(path + files[8], 'r', encoding='utf-8') as f:\n",
    "    news_202 = f.read()\n",
    "    \n",
    "article = news_202.split('\\n\\n\\n')\n",
    "print(len(article))"
   ]
  },
  {
   "cell_type": "code",
   "execution_count": 6,
   "id": "18c6eac5",
   "metadata": {
    "ExecuteTime": {
     "end_time": "2021-04-14T01:54:03.035378Z",
     "start_time": "2021-04-14T01:54:03.025742Z"
    }
   },
   "outputs": [
    {
     "data": {
      "text/plain": [
       "278795"
      ]
     },
     "execution_count": 6,
     "metadata": {},
     "output_type": "execute_result"
    }
   ],
   "source": [
    "len(article) - 280000"
   ]
  },
  {
   "cell_type": "code",
   "execution_count": 8,
   "id": "461f9555",
   "metadata": {
    "ExecuteTime": {
     "end_time": "2021-04-14T01:54:59.928688Z",
     "start_time": "2021-04-14T01:54:48.234071Z"
    }
   },
   "outputs": [
    {
     "name": "stdout",
     "output_type": "stream",
     "text": [
      "719182\n"
     ]
    }
   ],
   "source": [
    "with open(path + files[9], 'r', encoding='utf-8') as f:\n",
    "    news_2020 = f.read()\n",
    "    \n",
    "articles = news_2020.split('\\n\\n\\n')\n",
    "print(len(articles))"
   ]
  },
  {
   "cell_type": "code",
   "execution_count": 12,
   "id": "5cd55c6d",
   "metadata": {
    "ExecuteTime": {
     "end_time": "2021-04-14T01:58:49.080371Z",
     "start_time": "2021-04-14T01:58:49.076564Z"
    }
   },
   "outputs": [
    {
     "data": {
      "text/plain": [
       "379182"
      ]
     },
     "execution_count": 12,
     "metadata": {},
     "output_type": "execute_result"
    }
   ],
   "source": [
    "len(articles) - 340000"
   ]
  },
  {
   "cell_type": "code",
   "execution_count": 14,
   "id": "0025f19a",
   "metadata": {
    "ExecuteTime": {
     "end_time": "2021-04-14T02:00:55.059875Z",
     "start_time": "2021-04-14T02:00:53.745603Z"
    }
   },
   "outputs": [],
   "source": [
    "file_name = files[9].replace('.txt', '_2.txt')\n",
    "\n",
    "with open('./NEWS_splitted/' + file_name, 'w', encoding='utf-8') as f:\n",
    "    f.write('\\n\\n\\n'.join(articles[530000:]))"
   ]
  },
  {
   "cell_type": "code",
   "execution_count": null,
   "id": "32c216c7",
   "metadata": {},
   "outputs": [],
   "source": []
  }
 ],
 "metadata": {
  "kernelspec": {
   "display_name": "Python 3",
   "language": "python",
   "name": "python3"
  },
  "language_info": {
   "codemirror_mode": {
    "name": "ipython",
    "version": 3
   },
   "file_extension": ".py",
   "mimetype": "text/x-python",
   "name": "python",
   "nbconvert_exporter": "python",
   "pygments_lexer": "ipython3",
   "version": "3.7.10"
  },
  "toc": {
   "base_numbering": 1,
   "nav_menu": {},
   "number_sections": true,
   "sideBar": true,
   "skip_h1_title": false,
   "title_cell": "Table of Contents",
   "title_sidebar": "Contents",
   "toc_cell": false,
   "toc_position": {
    "height": "797px",
    "left": "1536px",
    "top": "110px",
    "width": "384px"
   },
   "toc_section_display": true,
   "toc_window_display": true
  },
  "varInspector": {
   "cols": {
    "lenName": 16,
    "lenType": 16,
    "lenVar": 40
   },
   "kernels_config": {
    "python": {
     "delete_cmd_postfix": "",
     "delete_cmd_prefix": "del ",
     "library": "var_list.py",
     "varRefreshCmd": "print(var_dic_list())"
    },
    "r": {
     "delete_cmd_postfix": ") ",
     "delete_cmd_prefix": "rm(",
     "library": "var_list.r",
     "varRefreshCmd": "cat(var_dic_list()) "
    }
   },
   "oldHeight": 329,
   "position": {
    "height": "351px",
    "left": "1549px",
    "right": "20px",
    "top": "111px",
    "width": "348px"
   },
   "types_to_exclude": [
    "module",
    "function",
    "builtin_function_or_method",
    "instance",
    "_Feature"
   ],
   "varInspector_section_display": "block",
   "window_display": true
  }
 },
 "nbformat": 4,
 "nbformat_minor": 5
}
