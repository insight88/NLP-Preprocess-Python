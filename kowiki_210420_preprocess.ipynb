{
 "cells": [
  {
   "cell_type": "code",
   "execution_count": 1,
   "id": "covered-current",
   "metadata": {
    "ExecuteTime": {
     "end_time": "2021-04-22T04:49:56.265270Z",
     "start_time": "2021-04-22T04:49:56.100897Z"
    }
   },
   "outputs": [],
   "source": [
    "import os\n",
    "import re\n",
    "import kss\n",
    "from tqdm.notebook import tqdm\n",
    "from konlpy.tag import Mecab\n",
    "mecab = Mecab()"
   ]
  },
  {
   "cell_type": "code",
   "execution_count": 3,
   "id": "charitable-karma",
   "metadata": {
    "ExecuteTime": {
     "end_time": "2021-04-22T10:02:40.565591Z",
     "start_time": "2021-04-22T07:09:05.036151Z"
    }
   },
   "outputs": [
    {
     "data": {
      "application/vnd.jupyter.widget-view+json": {
       "model_id": "c8faf3abd69c4bd98847f6556b89d3c3",
       "version_major": 2,
       "version_minor": 0
      },
      "text/plain": [
       "  0%|          | 0/787 [00:00<?, ?it/s]"
      ]
     },
     "metadata": {},
     "output_type": "display_data"
    },
    {
     "data": {
      "application/vnd.jupyter.widget-view+json": {
       "model_id": "4e7313e380df4542a1554fe8baaa7a3a",
       "version_major": 2,
       "version_minor": 0
      },
      "text/plain": [
       "  0%|          | 0/1198709 [00:00<?, ?it/s]"
      ]
     },
     "metadata": {},
     "output_type": "display_data"
    },
    {
     "data": {
      "application/vnd.jupyter.widget-view+json": {
       "model_id": "5fb9ed73f88941bfa3ce411051c6412c",
       "version_major": 2,
       "version_minor": 0
      },
      "text/plain": [
       "  0%|          | 0/1865968 [00:00<?, ?it/s]"
      ]
     },
     "metadata": {},
     "output_type": "display_data"
    },
    {
     "data": {
      "application/vnd.jupyter.widget-view+json": {
       "model_id": "8e086730e0564724a335bb44b323c4a1",
       "version_major": 2,
       "version_minor": 0
      },
      "text/plain": [
       "  0%|          | 0/1865992 [00:00<?, ?it/s]"
      ]
     },
     "metadata": {},
     "output_type": "display_data"
    }
   ],
   "source": [
    "path = 'text/'\n",
    "folder_list = os.listdir(path)\n",
    "\n",
    "file_list = []\n",
    "for folder in folder_list:\n",
    "    folder_path = path + folder + '/'\n",
    "    txt_list = os.listdir(folder_path)\n",
    "    for txt in txt_list:\n",
    "        file_list.append(folder_path + txt)\n",
    "        \n",
    "with open('kowiki_210420.txt', 'w', encoding='utf-8') as full:\n",
    "    kowiki = []\n",
    "    for file in tqdm(file_list):\n",
    "        with open(file, 'r', encoding='utf-8') as t:\n",
    "            content = t.read()\n",
    "            kowiki.append(content)\n",
    "    cont = ''.join(kowiki)\n",
    "    full.write(cont)\n",
    "    \n",
    "docs_sp = re.split('<doc[^>]+>', cont)\n",
    "\n",
    "doc_ob = []\n",
    "doc_ex = []\n",
    "for idx, doc in enumerate(docs_sp):\n",
    "    doc_arr = []\n",
    "    try:\n",
    "        doc_arr = doc.split('\\n\\n')\n",
    "        title = doc_arr[0].replace('\\n', '')\n",
    "        ob = {'title' : title}\n",
    "    \n",
    "        content = doc_arr[1]\n",
    "        ob['content'] = content\n",
    "        \n",
    "        doc_ob.append(ob)\n",
    "    except:\n",
    "        doc_ex.append(doc)\n",
    "        \n",
    "del cont\n",
    "del kowiki\n",
    "del docs_sp\n",
    "        \n",
    "filter_arr = []\n",
    "for doc in tqdm(doc_ob):\n",
    "    filter_arr.append(doc['title'])\n",
    "    filter_arr.append('\\n')\n",
    "    filter_arr.append(doc['content'])\n",
    "    filter_arr.append('\\n\\n')\n",
    "last_text = ''.join(filter_arr)\n",
    "\n",
    "del doc_ob\n",
    "del doc_ex\n",
    "del filter_arr\n",
    "\n",
    "docs = last_text.split('\\n\\n')\n",
    "docs_split = []\n",
    "for doc in tqdm(docs):\n",
    "    aa = re.sub('\\(\\)|\\(,?\\s?\\)', '', doc)  # (, ) 제거\n",
    "    bb = re.sub('\\(([^)]+)\\)', '', aa)  # () 괄호와 괄호 안 내용 제거\n",
    "    cc = re.sub('\\n[\\w|\\s]{2,20}.\\n', '\\n', bb)  # 소제목 (글자 + . 로 구성된 행) 제거\n",
    "    \n",
    "    for_title_arr = cc.split('\\n')\n",
    "    title = for_title_arr[0]\n",
    "    content = cc[len(title) + 1:]\n",
    "    content_s = content + '\\n\\n'\n",
    "    docs_split.append(content_s)\n",
    "docs_split_join = ''.join(docs_split)\n",
    "\n",
    "del docs\n",
    "\n",
    "wiki_docs = docs_split_join.split('\\n\\n')\n",
    "\n",
    "wiki_docs_len = []\n",
    "for idx, doc in enumerate(wiki_docs):\n",
    "    doc_len = len(doc)\n",
    "    len_ob = {'doc_id':idx, 'doc_len':doc_len, 'content':doc}\n",
    "    wiki_docs_len.append(len_ob)\n",
    "    \n",
    "del docs_split_join\n",
    "del wiki_docs\n",
    "    \n",
    "wiki_docs_long = []\n",
    "one_sent_docs = []\n",
    "for doc in tqdm(wiki_docs_len):\n",
    "    content = doc['content']\n",
    "    if len(kss.split_sentences(content)) == 1:\n",
    "        one_sent_docs.append(doc)\n",
    "    else:\n",
    "        wiki_docs_long.append(doc)\n",
    "        \n",
    "del wiki_docs_len\n",
    "        \n",
    "long_arr = []\n",
    "for doc in wiki_docs_long:\n",
    "    long_arr.append(doc['content'])\n",
    "    long_arr.append('\\n\\n')\n",
    "    \n",
    "del wiki_docs_long\n",
    "    \n",
    "wiki_n = ''.join(long_arr)\n",
    "useless = wiki_n.split('\\n\\n')\n",
    "useless_1 = [doc.replace('&lt;', '').replace('&gt;', '').replace('&nbsp;', '') for doc in useless]\n",
    "useless_2 = [doc.replace('&amp;', '').replace('&quot;', '').replace('&#039;', '') for doc in useless_1]\n",
    "useless_3 = [re.sub('\\(([^)]+)\\)', '', doc) for doc in useless_2]\n",
    "useless_4 = list(filter(lambda x: 'formula' not in x, useless_3))\n",
    "\n",
    "del long_arr\n",
    "del wiki_n\n",
    "\n",
    "with open('kowiki_210420_r.txt', 'w', encoding='utf-8') as f:\n",
    "    txt = '\\n\\n'.join(useless_4)\n",
    "    f.write(txt)"
   ]
  },
  {
   "cell_type": "code",
   "execution_count": 4,
   "id": "middle-cigarette",
   "metadata": {
    "ExecuteTime": {
     "end_time": "2021-04-23T02:12:29.538666Z",
     "start_time": "2021-04-23T00:02:03.730521Z"
    }
   },
   "outputs": [
    {
     "data": {
      "application/vnd.jupyter.widget-view+json": {
       "model_id": "d3d68c92c53f48b5aacc9295592a6899",
       "version_major": 2,
       "version_minor": 0
      },
      "text/plain": [
       "  0%|          | 0/3845931 [00:00<?, ?it/s]"
      ]
     },
     "metadata": {},
     "output_type": "display_data"
    },
    {
     "data": {
      "application/vnd.jupyter.widget-view+json": {
       "model_id": "30fcfe3c29df4065bddc325ef7c9378c",
       "version_major": 2,
       "version_minor": 0
      },
      "text/plain": [
       "  0%|          | 0/6477594 [00:00<?, ?it/s]"
      ]
     },
     "metadata": {},
     "output_type": "display_data"
    },
    {
     "data": {
      "application/vnd.jupyter.widget-view+json": {
       "model_id": "47f7341230b8403e98c165e6de0c524a",
       "version_major": 2,
       "version_minor": 0
      },
      "text/plain": [
       "  0%|          | 0/6477594 [00:00<?, ?it/s]"
      ]
     },
     "metadata": {},
     "output_type": "display_data"
    }
   ],
   "source": [
    "with open('kowiki_210420_r.txt', 'r', encoding='utf-8') as f:\n",
    "    read_lines = f.readlines()\n",
    "    \n",
    "len_smaller_2 = list(filter(lambda x: len(x) < 3 and x != '\\n', read_lines))\n",
    "\n",
    "fixed_lines = []\n",
    "for line in read_lines:\n",
    "    if len(line) < 3 and line != '\\n':\n",
    "        line = re.sub('.\\\\n', '\\n', line)\n",
    "    fixed_lines.append(line)\n",
    "    \n",
    "del read_lines\n",
    "    \n",
    "long_lines = list(filter(lambda x: len(x) > 15 or x == '\\n' in x, fixed_lines))\n",
    "\n",
    "del fixed_lines\n",
    "\n",
    "re_splited = []\n",
    "sents_ss = []\n",
    "for line in tqdm(long_lines):\n",
    "    if line == '\\n':\n",
    "        re_splited.append(line)\n",
    "    else:\n",
    "        sents_ss = kss.split_sentences(line)\n",
    "        for sent in sents_ss:\n",
    "            re_splited.append(sent + '\\n')\n",
    "    sents_ss = []\n",
    "    \n",
    "del long_lines\n",
    "    \n",
    "line_morphs = []\n",
    "for line in tqdm(re_splited):\n",
    "    morphs_arr = mecab.morphs(line)\n",
    "    morphs_sent = ' '.join(morphs_arr)\n",
    "    line_morphs.append(morphs_sent)\n",
    "    \n",
    "del re_splited\n",
    "    \n",
    "final_arr = []\n",
    "for line in tqdm(line_morphs):\n",
    "    if len(line) == 0:\n",
    "        line_with_s = '\\n'\n",
    "    else:\n",
    "        line_with_s = line + '\\n'\n",
    "    final_arr.append(line_with_s)\n",
    "    \n",
    "del line_morphs\n",
    "    \n",
    "final_text = ''.join(final_arr)\n",
    "with open('kowiki_210401_final.txt', 'w', encoding='utf-8') as f:\n",
    "    f.write(final_text)\n",
    "    \n",
    "del final_text\n",
    "del final_arr"
   ]
  },
  {
   "cell_type": "code",
   "execution_count": null,
   "id": "ae41b735",
   "metadata": {},
   "outputs": [],
   "source": []
  }
 ],
 "metadata": {
  "kernelspec": {
   "display_name": "Python 3",
   "language": "python",
   "name": "python3"
  },
  "language_info": {
   "codemirror_mode": {
    "name": "ipython",
    "version": 3
   },
   "file_extension": ".py",
   "mimetype": "text/x-python",
   "name": "python",
   "nbconvert_exporter": "python",
   "pygments_lexer": "ipython3",
   "version": "3.7.10"
  },
  "toc": {
   "base_numbering": 1,
   "nav_menu": {},
   "number_sections": true,
   "sideBar": true,
   "skip_h1_title": false,
   "title_cell": "Table of Contents",
   "title_sidebar": "Contents",
   "toc_cell": false,
   "toc_position": {
    "height": "calc(100% - 180px)",
    "left": "10px",
    "top": "150px",
    "width": "384px"
   },
   "toc_section_display": true,
   "toc_window_display": true
  },
  "varInspector": {
   "cols": {
    "lenName": 16,
    "lenType": 16,
    "lenVar": 40
   },
   "kernels_config": {
    "python": {
     "delete_cmd_postfix": "",
     "delete_cmd_prefix": "del ",
     "library": "var_list.py",
     "varRefreshCmd": "print(var_dic_list())"
    },
    "r": {
     "delete_cmd_postfix": ") ",
     "delete_cmd_prefix": "rm(",
     "library": "var_list.r",
     "varRefreshCmd": "cat(var_dic_list()) "
    }
   },
   "position": {
    "height": "759px",
    "left": "1558px",
    "right": "20px",
    "top": "116px",
    "width": "350px"
   },
   "types_to_exclude": [
    "module",
    "function",
    "builtin_function_or_method",
    "instance",
    "_Feature"
   ],
   "window_display": true
  }
 },
 "nbformat": 4,
 "nbformat_minor": 5
}
